{
 "cells": [
  {
   "cell_type": "code",
   "execution_count": 6,
   "metadata": {},
   "outputs": [],
   "source": [
    "import sys\n",
    "sys.path.append(\"../\")\n",
    "sys.path.append(\"../pympc/\")\n",
    "sys.path.append(\"../pympc/control/hscc/\")\n",
    "import subprocess\n",
    "import numpy as np"
   ]
  },
  {
   "cell_type": "code",
   "execution_count": 13,
   "metadata": {},
   "outputs": [],
   "source": [
    "N = 25\n",
    "\n",
    "solution = dict()\n",
    "solution_file = \"./solutions/N25_h0.05_seed2.mps.solution\"\n",
    "with open(solution_file, 'r') as in_file:\n",
    "    for line in in_file.readlines():\n",
    "        variable, value = line.split()\n",
    "        solution[variable] = float(value)\n",
    "\n",
    "N = 30 if \"N30\" in solution_file else 25\n",
    "x = np.array([np.array([solution[f'x@{t}[{k}]'] for k in range(10)]) for t in range(N+1)])\n",
    "assert(len(x) == N + 1)"
   ]
  },
  {
   "cell_type": "markdown",
   "metadata": {},
   "source": [
    "The following cells use MeshCat (available at https://github.com/rdeits/meshcat-python) to generate an animation of the optimal trajectory of the ball and the paddle."
   ]
  },
  {
   "cell_type": "code",
   "execution_count": 14,
   "metadata": {},
   "outputs": [],
   "source": [
    "import meshcat\n",
    "import meshcat.transformations as tf\n",
    "from meshcat.geometry import Box, Sphere, Cylinder, MeshLambertMaterial\n",
    "from meshcat.animation import Animation"
   ]
  },
  {
   "cell_type": "code",
   "execution_count": 15,
   "metadata": {},
   "outputs": [
    {
     "name": "stdout",
     "output_type": "stream",
     "text": [
      "You can open the visualizer by visiting the following URL:\n",
      "http://127.0.0.1:7002/static/\n"
     ]
    },
    {
     "data": {
      "text/plain": [
       "<Visualizer using: <meshcat.visualizer.ViewerWindow object at 0x7fb0fc6fc640> at path: <meshcat.path.Path object at 0x7fb0fc6fce50>>"
      ]
     },
     "execution_count": 15,
     "metadata": {},
     "output_type": "execute_result"
    }
   ],
   "source": [
    "# initialize visualizer\n",
    "vis = meshcat.Visualizer()\n",
    "vis.open()"
   ]
  },
  {
   "cell_type": "code",
   "execution_count": 16,
   "metadata": {},
   "outputs": [],
   "source": [
    "# geometric parameters of the ball and the paddle\n",
    "import numeric_parameters as params\n",
    "tickness = .01\n",
    "depth = .3\n",
    "\n",
    "# colors of the scene\n",
    "red = 0xff5555\n",
    "blue = 0x5555ff\n",
    "green = 0x55ff55\n",
    "grey = 0xffffff\n",
    "\n",
    "vis['ball_right'].set_object(\n",
    "    Sphere(params.r),\n",
    "    MeshLambertMaterial(color=blue)\n",
    ")\n",
    "vis['ball_left'].set_object(\n",
    "    Sphere(params.r),\n",
    "    MeshLambertMaterial(color=green)\n",
    ")\n",
    "vis['floor'].set_object(\n",
    "    Box([depth, params.l*2., tickness]),\n",
    "    MeshLambertMaterial(color=red)\n",
    ")\n",
    "vis['ceiling'].set_object(\n",
    "    Box([depth, params.l*2., tickness]),\n",
    "    MeshLambertMaterial(color=grey)\n",
    ")"
   ]
  },
  {
   "cell_type": "code",
   "execution_count": 17,
   "metadata": {},
   "outputs": [],
   "source": [
    "x = list(x)\n",
    "x = np.array([x[0]] * 5 + x)"
   ]
  },
  {
   "cell_type": "code",
   "execution_count": 20,
   "metadata": {},
   "outputs": [],
   "source": [
    "# initialize animation\n",
    "anim = Animation()\n",
    "\n",
    "# animate, e.g., the solution with infinity norm (and convex-hull method -- irrelevant)\n",
    "\n",
    "for t, xt in enumerate(x):\n",
    "    with anim.at_frame(vis, t*params.h*80) as frame: # 30 frames per second to get real time\n",
    "        frame['ball_right'].set_transform(\n",
    "            tf.translation_matrix([0, xt[0], xt[1]+params.r]).dot(\n",
    "                tf.rotation_matrix(xt[2], [1.,0.,0.]).dot(\n",
    "                    tf.translation_matrix([0, -0.001, 0])\n",
    "                )\n",
    "            )\n",
    "        )\n",
    "        frame['ball_left'].set_transform(\n",
    "            tf.translation_matrix([0, xt[0], xt[1]+params.r]).dot(\n",
    "                tf.rotation_matrix(xt[2], [1.,0.,0.]).dot(\n",
    "                    tf.translation_matrix([0, 0.001, 0])\n",
    "                )\n",
    "            )\n",
    "        )\n",
    "        frame['floor'].set_transform(\n",
    "            tf.translation_matrix([0, xt[3], xt[4]-tickness/2.])\n",
    "        )\n",
    "        frame['ceiling'].set_transform(\n",
    "            tf.translation_matrix([0, 0, params.d+tickness/2.])\n",
    "        )\n",
    "\n",
    "# visualize result\n",
    "vis.set_animation(anim)"
   ]
  },
  {
   "cell_type": "code",
   "execution_count": null,
   "metadata": {},
   "outputs": [],
   "source": []
  },
  {
   "cell_type": "code",
   "execution_count": null,
   "metadata": {},
   "outputs": [],
   "source": []
  },
  {
   "cell_type": "code",
   "execution_count": null,
   "metadata": {},
   "outputs": [],
   "source": []
  }
 ],
 "metadata": {
  "kernelspec": {
   "display_name": "Python 3",
   "language": "python",
   "name": "python3"
  },
  "language_info": {
   "codemirror_mode": {
    "name": "ipython",
    "version": 3
   },
   "file_extension": ".py",
   "mimetype": "text/x-python",
   "name": "python",
   "nbconvert_exporter": "python",
   "pygments_lexer": "ipython3",
   "version": "3.8.10"
  }
 },
 "nbformat": 4,
 "nbformat_minor": 2
}
