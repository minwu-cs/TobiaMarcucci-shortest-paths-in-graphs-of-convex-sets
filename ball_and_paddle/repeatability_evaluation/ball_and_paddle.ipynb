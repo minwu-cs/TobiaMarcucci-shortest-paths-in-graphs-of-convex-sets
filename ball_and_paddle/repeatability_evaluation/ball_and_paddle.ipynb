{
 "cells": [
  {
   "cell_type": "code",
   "execution_count": 1,
   "metadata": {},
   "outputs": [],
   "source": [
    "import sys\n",
    "sys.path.append(\"/home/haozewu/Projects/soi-milp/pympc/\")\n",
    "sys.path.append(\"/home/haozewu/Projects/soi-milp/pympc/pympc/\")\n",
    "sys.path.append(\"/home/haozewu/Projects/soi-milp/pympc/pympc/control/hscc/\")\n",
    "import subprocess\n",
    "import numpy as np"
   ]
  },
  {
   "cell_type": "code",
   "execution_count": 2,
   "metadata": {},
   "outputs": [],
   "source": [
    "N = 15\n",
    "\n",
    "cmd = f\"../../../SoIPlanner/build_production/Soy ./N25_h0.05_seed0.mps --solution-file solution.txt --seed 5 --milp-threshold=0\"\n",
    "subprocess.run(cmd.split())\n",
    "solution = dict()\n",
    "with open(\"solution.txt\", 'r') as in_file:\n",
    "    for line in in_file.readlines():\n",
    "        variable, value = line.split()\n",
    "        solution[variable] = float(value)\n"
   ]
  },
  {
   "cell_type": "code",
   "execution_count": 89,
   "metadata": {},
   "outputs": [],
   "source": [
    "x = np.array([np.array([solution[f'x@{t}[{k}]'] for k in range(10)]) for t in range(N+1)])"
   ]
  },
  {
   "cell_type": "markdown",
   "metadata": {},
   "source": [
    "# Figure 4: animation of the optimal trajectory"
   ]
  },
  {
   "cell_type": "markdown",
   "metadata": {},
   "source": [
    "The following cells use MeshCat (available at https://github.com/rdeits/meshcat-python) to generate an animation of the optimal trajectory of the ball and the paddle."
   ]
  },
  {
   "cell_type": "code",
   "execution_count": 90,
   "metadata": {},
   "outputs": [],
   "source": [
    "import meshcat\n",
    "import meshcat.transformations as tf\n",
    "from meshcat.geometry import Box, Sphere, Cylinder, MeshLambertMaterial\n",
    "from meshcat.animation import Animation"
   ]
  },
  {
   "cell_type": "code",
   "execution_count": 91,
   "metadata": {},
   "outputs": [
    {
     "name": "stdout",
     "output_type": "stream",
     "text": [
      "You can open the visualizer by visiting the following URL:\n",
      "http://127.0.0.1:7011/static/\n"
     ]
    },
    {
     "data": {
      "text/plain": [
       "<Visualizer using: <meshcat.visualizer.ViewerWindow object at 0x7fb0201cd2b0> at path: <meshcat.path.Path object at 0x7fb0203c77c8>>"
      ]
     },
     "execution_count": 91,
     "metadata": {},
     "output_type": "execute_result"
    }
   ],
   "source": [
    "# initialize visualizer\n",
    "vis = meshcat.Visualizer()\n",
    "vis.open()"
   ]
  },
  {
   "cell_type": "code",
   "execution_count": 92,
   "metadata": {},
   "outputs": [],
   "source": [
    "# geometric parameters of the ball and the paddle\n",
    "import numeric_parameters as params\n",
    "tickness = .01\n",
    "depth = .3\n",
    "\n",
    "# colors of the scene\n",
    "red = 0xff5555\n",
    "blue = 0x5555ff\n",
    "green = 0x55ff55\n",
    "grey = 0xffffff\n",
    "\n",
    "vis['ball_right'].set_object(\n",
    "    Sphere(params.r),\n",
    "    MeshLambertMaterial(color=blue)\n",
    ")\n",
    "vis['ball_left'].set_object(\n",
    "    Sphere(params.r),\n",
    "    MeshLambertMaterial(color=green)\n",
    ")\n",
    "vis['floor'].set_object(\n",
    "    Box([depth, params.l*2., tickness]),\n",
    "    MeshLambertMaterial(color=red)\n",
    ")\n",
    "vis['ceiling'].set_object(\n",
    "    Box([depth, params.l*2., tickness]),\n",
    "    MeshLambertMaterial(color=grey)\n",
    ")"
   ]
  },
  {
   "cell_type": "code",
   "execution_count": 93,
   "metadata": {},
   "outputs": [],
   "source": [
    "x = list(x)\n",
    "x = np.array([x[0]] * 10 + x)"
   ]
  },
  {
   "cell_type": "code",
   "execution_count": 94,
   "metadata": {},
   "outputs": [],
   "source": [
    "# initialize animation\n",
    "anim = Animation()\n",
    "\n",
    "# animate, e.g., the solution with infinity norm (and convex-hull method -- irrelevant)\n",
    "\n",
    "for t, xt in enumerate(x):\n",
    "    with anim.at_frame(vis, t*params.h*80) as frame: # 30 frames per second to get real time\n",
    "        frame['ball_right'].set_transform(\n",
    "            tf.translation_matrix([0, xt[0], xt[1]+params.r]).dot(\n",
    "                tf.rotation_matrix(xt[2], [1.,0.,0.]).dot(\n",
    "                    tf.translation_matrix([0, -0.001, 0])\n",
    "                )\n",
    "            )\n",
    "        )\n",
    "        frame['ball_left'].set_transform(\n",
    "            tf.translation_matrix([0, xt[0], xt[1]+params.r]).dot(\n",
    "                tf.rotation_matrix(xt[2], [1.,0.,0.]).dot(\n",
    "                    tf.translation_matrix([0, 0.001, 0])\n",
    "                )\n",
    "            )\n",
    "        )\n",
    "        frame['floor'].set_transform(\n",
    "            tf.translation_matrix([0, xt[3], xt[4]-tickness/2.])\n",
    "        )\n",
    "        frame['ceiling'].set_transform(\n",
    "            tf.translation_matrix([0, 0, params.d+tickness/2.])\n",
    "        )\n",
    "\n",
    "# visualize result\n",
    "vis.set_animation(anim)"
   ]
  },
  {
   "cell_type": "code",
   "execution_count": null,
   "metadata": {},
   "outputs": [],
   "source": []
  },
  {
   "cell_type": "code",
   "execution_count": null,
   "metadata": {},
   "outputs": [],
   "source": []
  },
  {
   "cell_type": "code",
   "execution_count": null,
   "metadata": {},
   "outputs": [],
   "source": []
  }
 ],
 "metadata": {
  "kernelspec": {
   "display_name": "Python 3",
   "language": "python",
   "name": "python3"
  },
  "language_info": {
   "codemirror_mode": {
    "name": "ipython",
    "version": 3
   },
   "file_extension": ".py",
   "mimetype": "text/x-python",
   "name": "python",
   "nbconvert_exporter": "python",
   "pygments_lexer": "ipython3",
   "version": "3.7.3"
  }
 },
 "nbformat": 4,
 "nbformat_minor": 2
}
