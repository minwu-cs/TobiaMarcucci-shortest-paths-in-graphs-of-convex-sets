{
 "cells": [
  {
   "cell_type": "code",
   "execution_count": 5,
   "metadata": {},
   "outputs": [
    {
     "name": "stdout",
     "output_type": "stream",
     "text": [
      "The autoreload extension is already loaded. To reload it, use:\n",
      "  %reload_ext autoreload\n"
     ]
    }
   ],
   "source": [
    "%matplotlib notebook\n",
    "%load_ext autoreload\n",
    "%autoreload 2"
   ]
  },
  {
   "cell_type": "code",
   "execution_count": 7,
   "metadata": {},
   "outputs": [
    {
     "name": "stdout",
     "output_type": "stream",
     "text": [
      "/bin/sh: 1: source: not found\r\n"
     ]
    },
    {
     "ename": "ModuleNotFoundError",
     "evalue": "No module named 'pydrake.all'",
     "output_type": "error",
     "traceback": [
      "\u001b[0;31m---------------------------------------------------------------------------\u001b[0m",
      "\u001b[0;31mModuleNotFoundError\u001b[0m                       Traceback (most recent call last)",
      "\u001b[0;32m<ipython-input-7-d4151323c2e3>\u001b[0m in \u001b[0;36m<module>\u001b[0;34m\u001b[0m\n\u001b[1;32m      2\u001b[0m \u001b[0;32mimport\u001b[0m \u001b[0mnumpy\u001b[0m \u001b[0;32mas\u001b[0m \u001b[0mnp\u001b[0m\u001b[0;34m\u001b[0m\u001b[0;34m\u001b[0m\u001b[0m\n\u001b[1;32m      3\u001b[0m \u001b[0;32mimport\u001b[0m \u001b[0mmatplotlib\u001b[0m\u001b[0;34m.\u001b[0m\u001b[0mpyplot\u001b[0m \u001b[0;32mas\u001b[0m \u001b[0mplt\u001b[0m\u001b[0;34m\u001b[0m\u001b[0;34m\u001b[0m\u001b[0m\n\u001b[0;32m----> 4\u001b[0;31m \u001b[0;32mfrom\u001b[0m \u001b[0mspp\u001b[0m\u001b[0;34m.\u001b[0m\u001b[0mconvex_sets\u001b[0m \u001b[0;32mimport\u001b[0m \u001b[0mSingleton\u001b[0m\u001b[0;34m,\u001b[0m \u001b[0mPolyhedron\u001b[0m\u001b[0;34m,\u001b[0m \u001b[0mCartesianProduct\u001b[0m\u001b[0;34m\u001b[0m\u001b[0;34m\u001b[0m\u001b[0m\n\u001b[0m\u001b[1;32m      5\u001b[0m \u001b[0;32mfrom\u001b[0m \u001b[0mspp\u001b[0m\u001b[0;34m.\u001b[0m\u001b[0mconvex_functions\u001b[0m \u001b[0;32mimport\u001b[0m \u001b[0mSquaredTwoNorm\u001b[0m\u001b[0;34m\u001b[0m\u001b[0;34m\u001b[0m\u001b[0m\n\u001b[1;32m      6\u001b[0m \u001b[0;32mfrom\u001b[0m \u001b[0mspp\u001b[0m\u001b[0;34m.\u001b[0m\u001b[0mpwa_systems\u001b[0m \u001b[0;32mimport\u001b[0m \u001b[0mPieceWiseAffineSystem\u001b[0m\u001b[0;34m,\u001b[0m \u001b[0mShortestPathRegulator\u001b[0m\u001b[0;34m\u001b[0m\u001b[0;34m\u001b[0m\u001b[0m\n",
      "\u001b[0;32m~/Projects/soi-milp/TobiaMarcucci-shortest-paths-in-graphs-of-convex-sets/spp/convex_sets.py\u001b[0m in \u001b[0;36m<module>\u001b[0;34m\u001b[0m\n\u001b[1;32m      5\u001b[0m \u001b[0;32mfrom\u001b[0m \u001b[0mitertools\u001b[0m \u001b[0;32mimport\u001b[0m \u001b[0mproduct\u001b[0m\u001b[0;34m\u001b[0m\u001b[0;34m\u001b[0m\u001b[0m\n\u001b[1;32m      6\u001b[0m \u001b[0;32mfrom\u001b[0m \u001b[0mscipy\u001b[0m\u001b[0;34m.\u001b[0m\u001b[0mspatial\u001b[0m \u001b[0;32mimport\u001b[0m \u001b[0mConvexHull\u001b[0m\u001b[0;34m,\u001b[0m \u001b[0mHalfspaceIntersection\u001b[0m\u001b[0;34m\u001b[0m\u001b[0;34m\u001b[0m\u001b[0m\n\u001b[0;32m----> 7\u001b[0;31m \u001b[0;32mfrom\u001b[0m \u001b[0mpydrake\u001b[0m\u001b[0;34m.\u001b[0m\u001b[0mall\u001b[0m \u001b[0;32mimport\u001b[0m \u001b[0mExpression\u001b[0m\u001b[0;34m,\u001b[0m \u001b[0mMathematicalProgram\u001b[0m\u001b[0;34m,\u001b[0m \u001b[0mMosekSolver\u001b[0m\u001b[0;34m,\u001b[0m \u001b[0meq\u001b[0m\u001b[0;34m,\u001b[0m \u001b[0mle\u001b[0m\u001b[0;34m\u001b[0m\u001b[0;34m\u001b[0m\u001b[0m\n\u001b[0m\u001b[1;32m      8\u001b[0m \u001b[0;34m\u001b[0m\u001b[0m\n\u001b[1;32m      9\u001b[0m \u001b[0;32mclass\u001b[0m \u001b[0mConvexSet\u001b[0m\u001b[0;34m(\u001b[0m\u001b[0;34m)\u001b[0m\u001b[0;34m:\u001b[0m\u001b[0;34m\u001b[0m\u001b[0;34m\u001b[0m\u001b[0m\n",
      "\u001b[0;31mModuleNotFoundError\u001b[0m: No module named 'pydrake.all'"
     ]
    }
   ],
   "source": [
    "! source ~/.bashrc\n",
    "import numpy as np\n",
    "import matplotlib.pyplot as plt\n",
    "from spp.convex_sets import Singleton, Polyhedron, CartesianProduct\n",
    "from spp.convex_functions import SquaredTwoNorm\n",
    "from spp.pwa_systems import PieceWiseAffineSystem, ShortestPathRegulator"
   ]
  },
  {
   "cell_type": "code",
   "execution_count": null,
   "metadata": {},
   "outputs": [],
   "source": [
    "# initial state\n",
    "z1 = np.array([-3.5, .5, 0, 0])\n",
    "q1 = z1[:2]\n",
    "\n",
    "# target set\n",
    "zK = np.array([3.5, 6.5, 0, 0])\n",
    "qK = zK[:2]\n",
    "Z = Singleton(zK)\n",
    "\n",
    "# time horizon\n",
    "K = 30\n",
    "\n",
    "# cost matrices\n",
    "q_dot_cost = .2 ** .5\n",
    "Q = np.diag([0, 0, q_dot_cost, q_dot_cost])\n",
    "R = np.eye(2)\n",
    "S = Q # ininfluential\n",
    "cost_matrices = (Q, R, S)"
   ]
  },
  {
   "cell_type": "code",
   "execution_count": 3,
   "metadata": {},
   "outputs": [
    {
     "ename": "NameError",
     "evalue": "name 'Polyhedron' is not defined",
     "output_type": "error",
     "traceback": [
      "\u001b[0;31m---------------------------------------------------------------------------\u001b[0m",
      "\u001b[0;31mNameError\u001b[0m                                 Traceback (most recent call last)",
      "\u001b[0;32m<ipython-input-3-585e8de3bf0c>\u001b[0m in \u001b[0;36m<module>\u001b[0;34m\u001b[0m\n\u001b[1;32m      1\u001b[0m \u001b[0;31m# configuration bounds\u001b[0m\u001b[0;34m\u001b[0m\u001b[0;34m\u001b[0m\u001b[0;34m\u001b[0m\u001b[0m\n\u001b[1;32m      2\u001b[0m Dq = [\n\u001b[0;32m----> 3\u001b[0;31m     \u001b[0mPolyhedron\u001b[0m\u001b[0;34m.\u001b[0m\u001b[0mfrom_bounds\u001b[0m\u001b[0;34m(\u001b[0m\u001b[0;34m[\u001b[0m\u001b[0;34m-\u001b[0m\u001b[0;36m4\u001b[0m\u001b[0;34m,\u001b[0m \u001b[0;36m0\u001b[0m\u001b[0;34m]\u001b[0m\u001b[0;34m,\u001b[0m \u001b[0;34m[\u001b[0m\u001b[0;36m3\u001b[0m\u001b[0;34m,\u001b[0m \u001b[0;36m1\u001b[0m\u001b[0;34m]\u001b[0m\u001b[0;34m)\u001b[0m\u001b[0;34m,\u001b[0m\u001b[0;34m\u001b[0m\u001b[0;34m\u001b[0m\u001b[0m\n\u001b[0m\u001b[1;32m      4\u001b[0m     \u001b[0mPolyhedron\u001b[0m\u001b[0;34m.\u001b[0m\u001b[0mfrom_bounds\u001b[0m\u001b[0;34m(\u001b[0m\u001b[0;34m[\u001b[0m\u001b[0;34m-\u001b[0m\u001b[0;36m6\u001b[0m\u001b[0;34m,\u001b[0m \u001b[0;36m1\u001b[0m\u001b[0;34m]\u001b[0m\u001b[0;34m,\u001b[0m \u001b[0;34m[\u001b[0m\u001b[0;34m-\u001b[0m\u001b[0;36m5\u001b[0m\u001b[0;34m,\u001b[0m \u001b[0;36m3\u001b[0m\u001b[0;34m]\u001b[0m\u001b[0;34m)\u001b[0m\u001b[0;34m,\u001b[0m\u001b[0;34m\u001b[0m\u001b[0;34m\u001b[0m\u001b[0m\n\u001b[1;32m      5\u001b[0m     \u001b[0mPolyhedron\u001b[0m\u001b[0;34m.\u001b[0m\u001b[0mfrom_bounds\u001b[0m\u001b[0;34m(\u001b[0m\u001b[0;34m[\u001b[0m\u001b[0;36m4\u001b[0m\u001b[0;34m,\u001b[0m \u001b[0;36m1\u001b[0m\u001b[0;34m]\u001b[0m\u001b[0;34m,\u001b[0m \u001b[0;34m[\u001b[0m\u001b[0;36m5\u001b[0m\u001b[0;34m,\u001b[0m \u001b[0;36m2\u001b[0m\u001b[0;34m]\u001b[0m\u001b[0;34m)\u001b[0m\u001b[0;34m,\u001b[0m\u001b[0;34m\u001b[0m\u001b[0;34m\u001b[0m\u001b[0m\n",
      "\u001b[0;31mNameError\u001b[0m: name 'Polyhedron' is not defined"
     ]
    }
   ],
   "source": [
    "# configuration bounds\n",
    "Dq = [\n",
    "    Polyhedron.from_bounds([-4, 0], [3, 1]),\n",
    "    Polyhedron.from_bounds([-6, 1], [-5, 3]),\n",
    "    Polyhedron.from_bounds([4, 1], [5, 2]),\n",
    "    Polyhedron.from_bounds([-4, 3], [4, 4]),\n",
    "    Polyhedron.from_bounds([-5, 5], [-4, 6]),\n",
    "    Polyhedron.from_bounds([5, 4], [6, 6]),\n",
    "    Polyhedron.from_bounds([-3, 6], [4, 7])\n",
    "]\n",
    "\n",
    "# velocity bounds\n",
    "qdot_max = np.ones(2) * 1\n",
    "qdot_min = - qdot_max\n",
    "Dqdot = Polyhedron.from_bounds(qdot_min, qdot_max)\n",
    "\n",
    "# control bounds\n",
    "u_max = np.ones(2) * 1\n",
    "u_min = - u_max\n",
    "Du = Polyhedron.from_bounds(u_min, u_max)\n",
    "\n",
    "# pwa domains\n",
    "domains = [CartesianProduct((Dqi, Dqdot, Du)) for Dqi in Dq]"
   ]
  },
  {
   "cell_type": "code",
   "execution_count": null,
   "metadata": {},
   "outputs": [],
   "source": [
    "# dynamics\n",
    "A = np.array([\n",
    "    [1, 0, 1, 0],\n",
    "    [0, 1, 0, 1],\n",
    "    [0, 0, 1, 0],\n",
    "    [0, 0, 0, 1]\n",
    "])\n",
    "B = np.vstack((np.zeros((2, 2)), np.eye(2)))\n",
    "Bred = B / 10\n",
    "c = np.zeros(4)\n",
    "dynamics = [(A, Bred, c) if i in [1, 5] else (A, B, c) for i in range(len(domains))]\n",
    "\n",
    "# pieceiwse affine system\n",
    "pwa = PieceWiseAffineSystem(dynamics, domains)"
   ]
  },
  {
   "cell_type": "code",
   "execution_count": null,
   "metadata": {},
   "outputs": [],
   "source": [
    "def plot_terrain(q=None, u=None):\n",
    "    plt.rc('axes', axisbelow=True)\n",
    "    plt.gca().set_aspect('equal')\n",
    "\n",
    "    for i, Dqi in enumerate(Dq):\n",
    "        color = 'lightcoral' if i in [1, 5] else 'lightcyan'\n",
    "        Dqi.plot(facecolor=color)\n",
    "        \n",
    "    plt.scatter(*q1, s=300, c='g', marker='+', zorder=2)\n",
    "    plt.scatter(*qK, s=300, c='g', marker='x', zorder=2)\n",
    "    \n",
    "    if q is not None:\n",
    "        plt.plot(*q.T, c='k', marker='o', markeredgecolor='k', markerfacecolor='w')\n",
    "        \n",
    "        if u is not None:\n",
    "            for t, ut in enumerate(u):\n",
    "                plt.arrow(*q[t], *ut, color='b', head_starts_at_zero=0, head_width=.15, head_length=.3)\n",
    "                \n",
    "    plt.xlabel(r'$q_1, w_1$')\n",
    "    plt.ylabel(r'$q_2, w_2$')\n",
    "    plt.grid(1)"
   ]
  },
  {
   "cell_type": "code",
   "execution_count": null,
   "metadata": {
    "scrolled": false
   },
   "outputs": [],
   "source": [
    "# plot solution\n",
    "plt.figure(figsize=(4, 3))\n",
    "plot_terrain(q, u)\n",
    "plt.xticks(range(-6, 7))\n",
    "\n",
    "plt.savefig('footstep_spp.pdf', bbox_inches='tight')"
   ]
  },
  {
   "cell_type": "markdown",
   "metadata": {},
   "source": [
    "# Baseline formulation"
   ]
  },
  {
   "cell_type": "code",
   "execution_count": null,
   "metadata": {},
   "outputs": [],
   "source": [
    "from pydrake.all import MathematicalProgram, MosekSolver, le, ge, eq，SolverOptions\n",
    "\n",
    "def solve_baseline(relaxation=0):\n",
    "    \n",
    "    # initialize program\n",
    "    prog = MathematicalProgram()\n",
    "    \n",
    "    # continuous decision variables\n",
    "    z = prog.NewContinuousVariables(K, 4)\n",
    "    u = prog.NewContinuousVariables(K - 1, 2)\n",
    "    q = z[:, :2]\n",
    "    qdot = z[:, 2:]\n",
    "    \n",
    "    # indicator variables\n",
    "    if relaxation:\n",
    "        b = prog.NewContinuousVariables(K - 1, len(Dq))\n",
    "        prog.AddLinearConstraint(ge(b.flatten(), 0))\n",
    "    else:\n",
    "        b = prog.NewBinaryVariables(K - 1, len(Dq))\n",
    "        \n",
    "    # slack variables for the cost function\n",
    "    s = prog.NewContinuousVariables(K - 1, len(Dq))\n",
    "    prog.AddLinearConstraint(ge(s.flatten(), 0))\n",
    "    prog.AddLinearCost(sum(sum(s)))\n",
    "    \n",
    "    # initial and terminal conditions\n",
    "    prog.AddLinearConstraint(eq(z[0], z1))\n",
    "    prog.AddLinearConstraint(eq(z[-1], zK))\n",
    "    \n",
    "    # containers for copies of state and the controls\n",
    "    z_aux = []\n",
    "    u_aux = []\n",
    "    \n",
    "    # loop over time\n",
    "    for k in range(K - 1):\n",
    "        \n",
    "        # auxiliary copies of state and the controls\n",
    "        Z = prog.NewContinuousVariables(len(Dq), 4)\n",
    "        U = prog.NewContinuousVariables(len(Dq), 2)\n",
    "        Znext = prog.NewContinuousVariables(len(Dq), 4)\n",
    "        Q = Z[:, :2]\n",
    "        Qdot = Z[:, 2:]\n",
    "        z_aux.append(Z)\n",
    "        u_aux.append(U)\n",
    "        \n",
    "        # loop over modes of the pwa system\n",
    "        for i, Dqi in enumerate(Dq):\n",
    "            \n",
    "            # cone constraint for the perspective of the cost\n",
    "            prog.AddRotatedLorentzConeConstraint(np.concatenate((\n",
    "                [s[k, i]],\n",
    "                [b[k, i]],\n",
    "                U[i],\n",
    "                q_dot_cost * Qdot[i]\n",
    "                )))\n",
    "            \n",
    "            # state and input bounds\n",
    "            prog.AddLinearConstraint(le(Dqi.C.dot(Q[i]), Dqi.d * b[k, i]))\n",
    "            prog.AddLinearConstraint(le(U[i], u_max * b[k, i]))\n",
    "            prog.AddLinearConstraint(ge(U[i], - u_max * b[k, i]))\n",
    "            prog.AddLinearConstraint(le(Qdot[i], qdot_max * b[k, i]))\n",
    "            prog.AddLinearConstraint(ge(Qdot[i], - qdot_max * b[k, i]))\n",
    "            \n",
    "            # pwa dynamics\n",
    "            Ai, Bi, ci = pwa.dynamics[i]\n",
    "            prog.AddLinearConstraint(eq(Ai.dot(Z[i]) + Bi.dot(U[i]) + ci, Znext[i]))\n",
    "            \n",
    "            # reconstruct auxiliary variables\n",
    "            prog.AddLinearConstraint(eq(sum(Z), z[k]))\n",
    "            prog.AddLinearConstraint(eq(sum(U), u[k]))\n",
    "            prog.AddLinearConstraint(eq(sum(Znext), z[k + 1]))\n",
    "            prog.AddLinearConstraint(sum(b[k]) == 1)\n",
    "            \n",
    "    # solve optimization\n",
    "    solver = MosekSolver()\n",
    "    result = solver.Solve(prog)\n",
    "    print('Cost:', result.get_optimal_cost())\n",
    "    print('Solve time:', result.get_solver_details().optimizer_time)\n",
    "    \n",
    "    # get optimal solution\n",
    "    z_opt = result.GetSolution(z)\n",
    "    u_opt = result.GetSolution(u)\n",
    "    b_opt = result.GetSolution(b)\n",
    "    z_aux_opt = [result.GetSolution(zk) for zk in z_aux]\n",
    "    u_aux_opt = [result.GetSolution(uk) for uk in u_aux]\n",
    "    \n",
    "    return z_opt, u_opt, b_opt, z_aux_opt, u_aux_opt"
   ]
  },
  {
   "cell_type": "code",
   "execution_count": null,
   "metadata": {},
   "outputs": [],
   "source": [
    "# solve the stepping stone problem using the perspective formulation\n",
    "relaxation = 1\n",
    "z, u, b, z_aux, u_aux = solve_baseline(relaxation)\n",
    "q = z[:, :2]\n",
    "qdot = z[:, 2:]"
   ]
  },
  {
   "cell_type": "code",
   "execution_count": null,
   "metadata": {},
   "outputs": [],
   "source": [
    "# plot optimal solution\n",
    "plt.figure(figsize=(4, 3))\n",
    "plot_terrain(q, u)\n",
    "plt.xticks(range(-6, 7))\n",
    "\n",
    "# plot transparent triangles\n",
    "if relaxation:\n",
    "    for k in range(K - 1):\n",
    "        for i, Dqi in enumerate(Dq):\n",
    "            if not np.isclose(b[k][i], 0):\n",
    "                plt.scatter(\n",
    "                    *z_aux[k][i][:2] / b[k][i],\n",
    "                    alpha=b[k][i],\n",
    "                    marker='^', edgecolor='k', facecolor='w', zorder=2\n",
    "                )\n",
    "# plt.savefig('footstep_pf.pdf', bbox_inches='tight')"
   ]
  }
 ],
 "metadata": {
  "kernelspec": {
   "display_name": "Python 3",
   "language": "python",
   "name": "python3"
  },
  "language_info": {
   "codemirror_mode": {
    "name": "ipython",
    "version": 3
   },
   "file_extension": ".py",
   "mimetype": "text/x-python",
   "name": "python",
   "nbconvert_exporter": "python",
   "pygments_lexer": "ipython3",
   "version": "3.7.3"
  }
 },
 "nbformat": 4,
 "nbformat_minor": 4
}
